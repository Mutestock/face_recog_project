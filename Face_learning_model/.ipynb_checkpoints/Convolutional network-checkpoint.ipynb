{
 "cells": [
  {
   "cell_type": "code",
   "execution_count": 45,
   "metadata": {},
   "outputs": [
    {
     "name": "stdout",
     "output_type": "stream",
     "text": [
      "1288 125 94 3\n"
     ]
    }
   ],
   "source": [
    "import tensorflow as tf\n",
    "from sklearn.model_selection import train_test_split\n",
    "from sklearn.datasets import fetch_lfw_people\n",
    "import matplotlib.pyplot as plt\n",
    "import numpy as np\n",
    "\n",
    "lfw_people = fetch_lfw_people(min_faces_per_person=70,  download_if_missing = True, resize=1, color=True)\n",
    "n_samples, h, w, rgb = lfw_people.images.shape\n",
    "\n",
    "X = lfw_people.data\n",
    "Y = lfw_people.target\n",
    "\n",
    "print(n_samples,h,w,rgb)\n",
    "\n",
    "x_train, x_test, y_train, y_test = train_test_split(X, Y, test_size=0.33, random_state=47)"
   ]
  },
  {
   "cell_type": "code",
   "execution_count": 46,
   "metadata": {},
   "outputs": [
    {
     "name": "stdout",
     "output_type": "stream",
     "text": [
      "(862, 35250)\n",
      "(862,)\n",
      "(426, 35250)\n",
      "(426,)\n"
     ]
    },
    {
     "data": {
      "image/png": "[encoded data removed]",
      "text/plain": [
       "<Figure size 432x288 with 1 Axes>"
      ]
     },
     "metadata": {
      "needs_background": "light"
     },
     "output_type": "display_data"
    },
    {
     "data": {
      "text/plain": [
       "array([3, 4, 4, 0, 1, 2, 5, 3, 6, 3, 5, 6, 1, 3, 0, 3, 0, 2, 3, 1, 6, 1,\n",
       "       4, 6, 2, 6, 3, 4, 0, 1, 1, 3, 1, 2, 1, 3, 4, 2, 1, 3, 1, 3, 1, 6,\n",
       "       5, 3, 3, 5, 3, 3, 3, 3, 3, 3, 0, 0, 3, 4, 5, 6, 4, 3, 4, 4, 1, 0,\n",
       "       3, 3, 3, 6, 5, 3, 6, 3, 3, 1, 5, 1, 4, 6, 3, 1, 5, 0, 1, 3, 6, 3,\n",
       "       6, 3, 3, 3, 2, 1, 3, 3, 5, 0, 5, 6, 3, 5, 0, 6, 6, 3, 3, 2, 3, 3,\n",
       "       3, 0, 1, 3, 3, 4, 2, 3, 2, 3, 2, 1, 4, 1, 6, 3, 6, 3, 1, 4, 1, 0,\n",
       "       3, 3, 1, 5, 4, 6, 2, 0, 5, 3, 3, 1, 6, 3, 1, 1, 3, 6, 1, 5, 6, 6,\n",
       "       6, 6, 2, 1, 3, 1, 3, 3, 6, 6, 3, 1, 4, 0, 2, 3, 3, 3, 6, 3, 4, 6,\n",
       "       3, 5, 3, 2, 4, 3, 1, 5, 3, 6, 1, 3, 3, 3, 3, 1, 4, 3, 3, 0, 2, 3,\n",
       "       4, 2, 1, 3, 3, 1, 5, 1, 0, 3, 1, 3, 3, 1, 3, 5, 3, 3, 1, 2, 3, 0,\n",
       "       1, 3, 4, 3, 3, 3, 5, 1, 1, 3, 1, 3, 3, 3, 3, 2, 1, 3, 2, 3, 3, 0,\n",
       "       6, 1, 1, 6, 5, 6, 3, 3, 3, 3, 4, 6, 6, 2, 3, 6, 1, 3, 3, 4, 3, 3,\n",
       "       4, 3, 1, 1, 3, 4, 3, 3, 1, 3, 3, 3, 0, 3, 6, 1, 3, 4, 5, 2, 3, 3,\n",
       "       3, 4, 3, 4, 3, 3, 3, 3, 3, 3, 3, 3, 3, 3, 6, 3, 3, 3, 1, 6, 3, 2,\n",
       "       1, 5, 5, 6, 3, 3, 5, 3, 3, 6, 1, 4, 2, 2, 6, 1, 5, 3, 1, 2, 3, 3,\n",
       "       3, 3, 1, 6, 6, 4, 5, 4, 3, 3, 3, 3, 6, 4, 3, 4, 1, 4, 1, 3, 3, 1,\n",
       "       3, 5, 3, 2, 3, 1, 3, 6, 6, 5, 3, 3, 3, 3, 3, 4, 6, 3, 3, 3, 3, 4,\n",
       "       3, 3, 3, 2, 1, 4, 1, 3, 6, 0, 1, 6, 1, 3, 5, 2, 3, 4, 3, 5, 0, 3,\n",
       "       3, 3, 0, 3, 2, 3, 6, 1, 3, 3, 6, 3, 4, 6, 4, 3, 2, 3, 1, 3, 6, 0,\n",
       "       6, 3, 3, 6, 3, 6, 4, 2, 5, 1, 2, 3, 3, 3, 1, 5, 1, 1, 1, 1, 3, 3,\n",
       "       0, 6, 6, 3, 6, 0, 3, 0, 3, 1, 1, 4, 6, 3, 1, 6, 6, 3, 3, 3, 4, 3,\n",
       "       3, 3, 2, 6, 3, 1, 4, 4, 3, 3, 1, 3, 2, 5, 3, 3, 4, 6, 3, 0, 4, 3,\n",
       "       2, 3, 4, 3, 3, 3, 3, 3, 1, 3, 0, 1, 4, 1, 3, 1, 6, 6, 1, 3, 3, 2,\n",
       "       3, 3, 3, 0, 1, 3, 6, 5, 4, 2, 1, 3, 1, 4, 1, 3, 5, 3, 1, 4, 1, 4,\n",
       "       3, 5, 1, 3, 3, 3, 2, 1, 3, 1, 3, 2, 2, 5, 3, 1, 6, 3, 3, 6, 0, 3,\n",
       "       3, 0, 6, 1, 4, 6, 6, 2, 3, 4, 0, 6, 6, 3, 1, 1, 6, 3, 0, 3, 3, 3,\n",
       "       5, 4, 4, 0, 3, 6, 4, 0, 1, 3, 4, 1, 1, 0, 6, 3, 6, 2, 2, 0, 1, 3,\n",
       "       3, 1, 3, 6, 3, 3, 4, 3, 3, 1, 1, 0, 4, 3, 1, 3, 6, 4, 1, 3, 3, 1,\n",
       "       3, 3, 3, 1, 4, 5, 3, 3, 3, 2, 5, 5, 2, 3, 3, 3, 4, 1, 0, 3, 6, 3,\n",
       "       2, 6, 3, 6, 1, 2, 3, 6, 0, 3, 3, 5, 3, 3, 1, 6, 3, 3, 3, 1, 3, 3,\n",
       "       3, 1, 3, 2, 3, 5, 2, 3, 3, 6, 3, 6, 3, 3, 1, 4, 3, 3, 1, 0, 1, 6,\n",
       "       1, 4, 1, 2, 1, 0, 3, 3, 2, 1, 2, 5, 3, 2, 3, 3, 1, 3, 2, 2, 3, 6,\n",
       "       3, 1, 1, 3, 4, 1, 3, 3, 1, 3, 2, 1, 3, 3, 2, 2, 1, 4, 1, 2, 3, 3,\n",
       "       1, 1, 1, 1, 1, 1, 3, 3, 4, 6, 1, 2, 3, 4, 3, 3, 4, 3, 3, 6, 3, 4,\n",
       "       2, 1, 6, 3, 6, 2, 2, 3, 1, 1, 1, 1, 2, 3, 3, 2, 2, 3, 6, 3, 6, 1,\n",
       "       2, 2, 6, 2, 3, 6, 3, 3, 3, 4, 5, 3, 1, 2, 3, 3, 2, 3, 1, 1, 3, 3,\n",
       "       4, 2, 3, 1, 2, 1, 2, 3, 3, 3, 2, 5, 4, 1, 1, 1, 3, 2, 1, 3, 4, 3,\n",
       "       3, 3, 4, 1, 2, 3, 2, 3, 3, 6, 4, 3, 3, 6, 1, 3, 0, 3, 2, 0, 1, 3,\n",
       "       3, 6, 0, 0, 1, 1, 2, 1, 3, 0, 3, 6, 6, 2, 2, 3, 2, 3, 0, 1, 6, 1,\n",
       "       1, 3, 5, 4], dtype=int64)"
      ]
     },
     "execution_count": 46,
     "metadata": {},
     "output_type": "execute_result"
    }
   ],
   "source": [
    "#x_train = tf.keras.utils.normalize(x_train, axis=1)\n",
    "#x_test = tf.keras.utils.normalize(x_test, axis=1)\n",
    "\n",
    "print(x_train.shape)\n",
    "print(y_train.shape)\n",
    "\n",
    "print(x_test.shape)\n",
    "print(y_test.shape)\n",
    "\n",
    "x_train = x_train.reshape(x_train.shape[0],h,w,3)\n",
    "\n",
    "x_train = x_train.astype('float32')\n",
    "x_train = x_train/255\n",
    "\n",
    "x_test = x_test.reshape(x_test.shape[0],h,w,3)\n",
    "x_test = x_test.astype('float32')\n",
    "x_test = x_test/255\n",
    "\n",
    "#y_train = np.array([[x] for x in y_train])\n",
    "#y_test = np.array([[x] for x in y_test])\n",
    "\n",
    "#y_train = np.where(y_train == 1, 1, 0)\n",
    "#y_test = np.where(y_test == 1, 1, 0)\n",
    "\n",
    "\n",
    "x_train = [np.mean(pic, axis=2) for pic in x_train]\n",
    "x_test = [np.mean(pic, axis=2) for pic in x_test]\n",
    "\n",
    "\n",
    "plt.imshow(x_test[5], cmap='gray')\n",
    "plt.show()\n",
    "\n",
    "y_train"
   ]
  },
  {
   "cell_type": "code",
   "execution_count": null,
   "metadata": {},
   "outputs": [],
   "source": []
  },
  {
   "cell_type": "code",
   "execution_count": 47,
   "metadata": {},
   "outputs": [
    {
     "name": "stdout",
     "output_type": "stream",
     "text": [
      "Model: \"sequential_7\"\n",
      "_________________________________________________________________\n",
      "Layer (type)                 Output Shape              Param #   \n",
      "=================================================================\n",
      "conv2d_19 (Conv2D)           (None, 123, 92, 32)       320       \n",
      "_________________________________________________________________\n",
      "max_pooling2d_13 (MaxPooling (None, 61, 46, 32)        0         \n",
      "_________________________________________________________________\n",
      "conv2d_20 (Conv2D)           (None, 59, 44, 64)        18496     \n",
      "_________________________________________________________________\n",
      "max_pooling2d_14 (MaxPooling (None, 29, 22, 64)        0         \n",
      "_________________________________________________________________\n",
      "conv2d_21 (Conv2D)           (None, 27, 20, 64)        36928     \n",
      "_________________________________________________________________\n",
      "flatten_7 (Flatten)          (None, 34560)             0         \n",
      "_________________________________________________________________\n",
      "dense_13 (Dense)             (None, 64)                2211904   \n",
      "_________________________________________________________________\n",
      "dense_14 (Dense)             (None, 1)                 65        \n",
      "=================================================================\n",
      "Total params: 2,267,713\n",
      "Trainable params: 2,267,713\n",
      "Non-trainable params: 0\n",
      "_________________________________________________________________\n"
     ]
    },
    {
     "ename": "ValueError",
     "evalue": "Error when checking model input: the list of Numpy arrays that you are passing to your model is not the size the model expected. Expected to see 1 array(s), but instead got the following list of 862 arrays: [array([[0.18692811, 0.23137255, 0.23137255, ..., 0.24313726, 0.22352941,\n        0.21437909],\n       [0.19869281, 0.23267974, 0.22222222, ..., 0.2653595 , 0.24183007,\n        0.22091503],\n       [0.2...",
     "output_type": "error",
     "traceback": [
      "\u001b[1;31m---------------------------------------------------------------------------\u001b[0m",
      "\u001b[1;31mValueError\u001b[0m                                Traceback (most recent call last)",
      "\u001b[1;32m<ipython-input-47-701bc6c35513>\u001b[0m in \u001b[0;36m<module>\u001b[1;34m\u001b[0m\n\u001b[0;32m     26\u001b[0m          \u001b[0mverbose\u001b[0m\u001b[1;33m=\u001b[0m\u001b[1;32mTrue\u001b[0m\u001b[1;33m,\u001b[0m\u001b[1;33m\u001b[0m\u001b[1;33m\u001b[0m\u001b[0m\n\u001b[0;32m     27\u001b[0m          \u001b[0mbatch_size\u001b[0m\u001b[1;33m=\u001b[0m\u001b[1;36m64\u001b[0m\u001b[1;33m,\u001b[0m\u001b[1;33m\u001b[0m\u001b[1;33m\u001b[0m\u001b[0m\n\u001b[1;32m---> 28\u001b[1;33m          validation_split=0.1) # checking periodically how well we are doing\n\u001b[0m",
      "\u001b[1;32m~\\Anaconda3\\lib\\site-packages\\keras\\engine\\training.py\u001b[0m in \u001b[0;36mfit\u001b[1;34m(self, x, y, batch_size, epochs, verbose, callbacks, validation_split, validation_data, shuffle, class_weight, sample_weight, initial_epoch, steps_per_epoch, validation_steps, validation_freq, max_queue_size, workers, use_multiprocessing, **kwargs)\u001b[0m\n\u001b[0;32m   1152\u001b[0m             \u001b[0msample_weight\u001b[0m\u001b[1;33m=\u001b[0m\u001b[0msample_weight\u001b[0m\u001b[1;33m,\u001b[0m\u001b[1;33m\u001b[0m\u001b[1;33m\u001b[0m\u001b[0m\n\u001b[0;32m   1153\u001b[0m             \u001b[0mclass_weight\u001b[0m\u001b[1;33m=\u001b[0m\u001b[0mclass_weight\u001b[0m\u001b[1;33m,\u001b[0m\u001b[1;33m\u001b[0m\u001b[1;33m\u001b[0m\u001b[0m\n\u001b[1;32m-> 1154\u001b[1;33m             batch_size=batch_size)\n\u001b[0m\u001b[0;32m   1155\u001b[0m \u001b[1;33m\u001b[0m\u001b[0m\n\u001b[0;32m   1156\u001b[0m         \u001b[1;31m# Prepare validation data.\u001b[0m\u001b[1;33m\u001b[0m\u001b[1;33m\u001b[0m\u001b[1;33m\u001b[0m\u001b[0m\n",
      "\u001b[1;32m~\\Anaconda3\\lib\\site-packages\\keras\\engine\\training.py\u001b[0m in \u001b[0;36m_standardize_user_data\u001b[1;34m(self, x, y, sample_weight, class_weight, check_array_lengths, batch_size)\u001b[0m\n\u001b[0;32m    577\u001b[0m             \u001b[0mfeed_input_shapes\u001b[0m\u001b[1;33m,\u001b[0m\u001b[1;33m\u001b[0m\u001b[1;33m\u001b[0m\u001b[0m\n\u001b[0;32m    578\u001b[0m             \u001b[0mcheck_batch_axis\u001b[0m\u001b[1;33m=\u001b[0m\u001b[1;32mFalse\u001b[0m\u001b[1;33m,\u001b[0m  \u001b[1;31m# Don't enforce the batch size.\u001b[0m\u001b[1;33m\u001b[0m\u001b[1;33m\u001b[0m\u001b[0m\n\u001b[1;32m--> 579\u001b[1;33m             exception_prefix='input')\n\u001b[0m\u001b[0;32m    580\u001b[0m \u001b[1;33m\u001b[0m\u001b[0m\n\u001b[0;32m    581\u001b[0m         \u001b[1;32mif\u001b[0m \u001b[0my\u001b[0m \u001b[1;32mis\u001b[0m \u001b[1;32mnot\u001b[0m \u001b[1;32mNone\u001b[0m\u001b[1;33m:\u001b[0m\u001b[1;33m\u001b[0m\u001b[1;33m\u001b[0m\u001b[0m\n",
      "\u001b[1;32m~\\Anaconda3\\lib\\site-packages\\keras\\engine\\training_utils.py\u001b[0m in \u001b[0;36mstandardize_input_data\u001b[1;34m(data, names, shapes, check_batch_axis, exception_prefix)\u001b[0m\n\u001b[0;32m    107\u001b[0m                 \u001b[1;34m'Expected to see '\u001b[0m \u001b[1;33m+\u001b[0m \u001b[0mstr\u001b[0m\u001b[1;33m(\u001b[0m\u001b[0mlen\u001b[0m\u001b[1;33m(\u001b[0m\u001b[0mnames\u001b[0m\u001b[1;33m)\u001b[0m\u001b[1;33m)\u001b[0m \u001b[1;33m+\u001b[0m \u001b[1;34m' array(s), '\u001b[0m\u001b[1;33m\u001b[0m\u001b[1;33m\u001b[0m\u001b[0m\n\u001b[0;32m    108\u001b[0m                 \u001b[1;34m'but instead got the following list of '\u001b[0m \u001b[1;33m+\u001b[0m\u001b[1;33m\u001b[0m\u001b[1;33m\u001b[0m\u001b[0m\n\u001b[1;32m--> 109\u001b[1;33m                 str(len(data)) + ' arrays: ' + str(data)[:200] + '...')\n\u001b[0m\u001b[0;32m    110\u001b[0m         \u001b[1;32melif\u001b[0m \u001b[0mlen\u001b[0m\u001b[1;33m(\u001b[0m\u001b[0mnames\u001b[0m\u001b[1;33m)\u001b[0m \u001b[1;33m>\u001b[0m \u001b[1;36m1\u001b[0m\u001b[1;33m:\u001b[0m\u001b[1;33m\u001b[0m\u001b[1;33m\u001b[0m\u001b[0m\n\u001b[0;32m    111\u001b[0m             raise ValueError(\n",
      "\u001b[1;31mValueError\u001b[0m: Error when checking model input: the list of Numpy arrays that you are passing to your model is not the size the model expected. Expected to see 1 array(s), but instead got the following list of 862 arrays: [array([[0.18692811, 0.23137255, 0.23137255, ..., 0.24313726, 0.22352941,\n        0.21437909],\n       [0.19869281, 0.23267974, 0.22222222, ..., 0.2653595 , 0.24183007,\n        0.22091503],\n       [0.2..."
     ]
    }
   ],
   "source": [
    "from keras import models\n",
    "from keras import layers\n",
    "\n",
    "\n",
    "model2 = models.Sequential()\n",
    "\n",
    "# keras.layers.Conv2D(filters, kernel_size... filter is how many filters (windows of sub pixel set) kernel is the window size eg: 3x3 pixels\n",
    "model2.add(layers.Conv2D(32, (3,3), activation='relu',input_shape=(125, 94,1)))\n",
    "model2.add(layers.MaxPool2D((2,2))) # Max Pooling to reduce the spatial dimensions of the output volume. pool_size: integer or tuple of 2 integers, factors by which to downscale (vertical, horizontal)\n",
    "model2.add(layers.Conv2D(64,(3,3),activation='relu')) # does not need input_shape, since it gets it from previous layer\n",
    "model2.add(layers.MaxPool2D((2,2)))\n",
    "model2.add(layers.Conv2D(64,(3,3),activation='relu'))\n",
    "model2.add(layers.Flatten()) # rewrite tensor to single vector of values\n",
    "model2.add(layers.Dense(64, activation='relu'))\n",
    "model2.add(layers.Dense(1, activation='softmax')) # softmax is good for output layer because Softmax outputs probabilities range. The range will 0 to 1, and the sum of all the probabilities will be equal to one. If the softmax function used for multi-classification model it returns the probabilities of each class and the target class will have the high probability.\n",
    "\n",
    "model2.summary()\n",
    "\n",
    "model2.compile(loss='categorical_crossentropy', # loss is how to meassure how wrong the model is on its predictions\n",
    "             optimizer='rmsprop', # \"stochastic gradient descent\" is a way to tell algorithm how to improve\n",
    "             metrics=['accuracy'], # what do we care about in our model\n",
    "             )\n",
    "model2.fit(x_train,\n",
    "         y_train,\n",
    "         epochs=8,\n",
    "         verbose=True,\n",
    "         batch_size=64,\n",
    "         validation_split=0.1) # checking periodically how well we are doing"
   ]
  },
  {
   "cell_type": "code",
   "execution_count": null,
   "metadata": {},
   "outputs": [],
   "source": []
  },
  {
   "cell_type": "code",
   "execution_count": null,
   "metadata": {},
   "outputs": [],
   "source": []
  },
  {
   "cell_type": "code",
   "execution_count": 9,
   "metadata": {},
   "outputs": [
    {
     "name": "stdout",
     "output_type": "stream",
     "text": [
      "426/426 [==============================] - 0s 265us/sample - loss: 0.6758 - accuracy: 0.7770\n",
      "0.6757917760963171 0.7769953\n"
     ]
    }
   ],
   "source": [
    "val_loss, val_acc = model.evaluate(x_test, y_test) #Calculate validation loss and validation accuracy\n",
    "print(val_loss, val_acc) "
   ]
  },
  {
   "cell_type": "code",
   "execution_count": 10,
   "metadata": {
    "scrolled": true
   },
   "outputs": [
    {
     "name": "stdout",
     "output_type": "stream",
     "text": [
      "WARNING:tensorflow:From C:\\Users\\rasmu\\Anaconda3\\lib\\site-packages\\tensorflow_core\\python\\ops\\resource_variable_ops.py:1786: calling BaseResourceVariable.__init__ (from tensorflow.python.ops.resource_variable_ops) with constraint is deprecated and will be removed in a future version.\n",
      "Instructions for updating:\n",
      "If using Keras pass *_constraint arguments to layers.\n"
     ]
    },
    {
     "name": "stderr",
     "output_type": "stream",
     "text": [
      "WARNING:tensorflow:From C:\\Users\\rasmu\\Anaconda3\\lib\\site-packages\\tensorflow_core\\python\\ops\\resource_variable_ops.py:1786: calling BaseResourceVariable.__init__ (from tensorflow.python.ops.resource_variable_ops) with constraint is deprecated and will be removed in a future version.\n",
      "Instructions for updating:\n",
      "If using Keras pass *_constraint arguments to layers.\n"
     ]
    },
    {
     "name": "stdout",
     "output_type": "stream",
     "text": [
      "INFO:tensorflow:Assets written to: Convolutional_network.model\\assets\n"
     ]
    },
    {
     "name": "stderr",
     "output_type": "stream",
     "text": [
      "INFO:tensorflow:Assets written to: Convolutional_network.model\\assets\n"
     ]
    }
   ],
   "source": [
    "model.save('Convolutional_network.model')"
   ]
  },
  {
   "cell_type": "code",
   "execution_count": 11,
   "metadata": {},
   "outputs": [],
   "source": [
    "new_model = tf.keras.models.load_model('Convolutional_network.model')"
   ]
  },
  {
   "cell_type": "code",
   "execution_count": 12,
   "metadata": {},
   "outputs": [],
   "source": [
    "predictions = new_model.predict(x_test)"
   ]
  },
  {
   "cell_type": "code",
   "execution_count": 18,
   "metadata": {},
   "outputs": [
    {
     "name": "stdout",
     "output_type": "stream",
     "text": [
      "Id prediction: 3\n"
     ]
    }
   ],
   "source": [
    "import numpy as np\n",
    "\n",
    "print('Id prediction:', np.argmax(predictions[0]))"
   ]
  },
  {
   "cell_type": "code",
   "execution_count": 19,
   "metadata": {},
   "outputs": [
    {
     "data": {
      "image/png": "[encoded data removed]",
      "text/plain": [
       "<Figure size 432x288 with 1 Axes>"
      ]
     },
     "metadata": {
      "needs_background": "light"
     },
     "output_type": "display_data"
    },
    {
     "name": "stdout",
     "output_type": "stream",
     "text": [
      "Id: 3\n"
     ]
    }
   ],
   "source": [
    "x,y,r = x_test[0].shape\n",
    "plt.imshow(x_test[0].reshape(x,y))\n",
    "plt.show()\n",
    "print('Id:', y_test[0])"
   ]
  },
  {
   "cell_type": "code",
   "execution_count": null,
   "metadata": {},
   "outputs": [],
   "source": []
  }
 ],
 "metadata": {
  "kernelspec": {
   "display_name": "Python 3",
   "language": "python",
   "name": "python3"
  },
  "language_info": {
   "codemirror_mode": {
    "name": "ipython",
    "version": 3
   },
   "file_extension": ".py",
   "mimetype": "text/x-python",
   "name": "python",
   "nbconvert_exporter": "python",
   "pygments_lexer": "ipython3",
   "version": "3.7.4"
  }
 },
 "nbformat": 4,
 "nbformat_minor": 2
}
